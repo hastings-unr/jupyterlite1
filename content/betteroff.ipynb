{
 "cells": [
  {
   "cell_type": "markdown",
   "id": "0ceedcd9-ddc4-4f0e-9b76-29bedabbcaa8",
   "metadata": {
    "jp-MarkdownHeadingCollapsed": true
   },
   "source": [
    "# First Questions for Many Voters"
   ]
  },
  {
   "cell_type": "markdown",
   "id": "3f2eb1ee-c0ff-4c3b-86db-283b99d1e98d",
   "metadata": {
    "jp-MarkdownHeadingCollapsed": true
   },
   "source": [
    "## With all rancor in politics this year, I am interested in whether we in the U.S. are better off, or worse off, than we were four years ago. Overall, what is peoples' take-home pay?"
   ]
  },
  {
   "cell_type": "markdown",
   "id": "bd937048-3cb3-42fa-9a2a-83c663231247",
   "metadata": {},
   "source": [
    "** <b>See the two maps below.</b> **"
   ]
  },
  {
   "cell_type": "markdown",
   "id": "c4f5c695-611a-4c36-be6d-0f2042966772",
   "metadata": {},
   "source": [
    "---"
   ]
  },
  {
   "cell_type": "markdown",
   "id": "22810cd0-efa0-4c25-9179-acb00a422765",
   "metadata": {},
   "source": [
    "1. This first map answers your question directly: what is Per Capita Income (PCI) across the U.S. "
   ]
  },
  {
   "cell_type": "code",
   "execution_count": 4,
   "id": "2b63db5e-8083-4f35-bbed-feacb7a83d74",
   "metadata": {},
   "outputs": [
    {
     "name": "stderr",
     "output_type": "stream",
     "text": [
      "C:\\Users\\Administrator\\AppData\\Local\\Programs\\Python\\Python312\\Lib\\site-packages\\IPython\\core\\display.py:431: UserWarning: Consider using IPython.display.IFrame instead\n",
      "  warnings.warn(\"Consider using IPython.display.IFrame instead\")\n"
     ]
    },
    {
     "data": {
      "text/html": [
       "<iframe src=https://vda.tsukasa-consulting.net/Base/Default?projectfname=00100_00900.ttkgp width=1000 height=600> </iframe>"
      ],
      "text/plain": [
       "<IPython.core.display.HTML object>"
      ]
     },
     "execution_count": 4,
     "metadata": {},
     "output_type": "execute_result"
    }
   ],
   "source": [
    "import IPython\n",
    "url = 'https://vda.tsukasa-consulting.net/Base/Default?projectfname=00100_00900.ttkgp'\n",
    "iframe = '<iframe src='+url+' width=1000 height=600> </iframe>'\n",
    "IPython.display.HTML(iframe)"
   ]
  },
  {
   "cell_type": "markdown",
   "id": "6748dbd2-2007-4fb8-8ffb-3d109306cc62",
   "metadata": {},
   "source": [
    "2. And this second map shows how PCI has changed over time."
   ]
  },
  {
   "cell_type": "code",
   "execution_count": 5,
   "id": "9da4a000-2289-4160-89ca-4ca14e7a5eff",
   "metadata": {},
   "outputs": [
    {
     "data": {
      "text/html": [
       "<iframe src=https://vda.tsukasa-consulting.net/Base/Default?projectfname=00100_00900.ttkgp width=1000 height=600> </iframe>"
      ],
      "text/plain": [
       "<IPython.core.display.HTML object>"
      ]
     },
     "execution_count": 5,
     "metadata": {},
     "output_type": "execute_result"
    }
   ],
   "source": [
    "url = 'https://vda.tsukasa-consulting.net/Base/Default?projectfname=00100_00900.ttkgp'\n",
    "iframe = '<iframe src='+url+' width=1000 height=600> </iframe>'\n",
    "IPython.display.HTML(iframe)"
   ]
  },
  {
   "cell_type": "markdown",
   "id": "df685c55-7bf2-47e3-b5e4-3c8e0a58388c",
   "metadata": {
    "jp-MarkdownHeadingCollapsed": true
   },
   "source": [
    "## That is surprising to me! Why is pay - PCI as you call it - decreasing some states, and increasing in others? We we all in this together, right?"
   ]
  },
  {
   "cell_type": "markdown",
   "id": "feed0563-78e3-40a5-812d-d9596ca39d1b",
   "metadata": {},
   "source": [
    "** <b>Well, other things are going on.</b> **"
   ]
  },
  {
   "cell_type": "markdown",
   "id": "ef3f4716-d8e7-4e1b-ab77-8179e75399a2",
   "metadata": {},
   "source": [
    "Some states are more productive than others in terms of the goods and services, so-called Gross Domestic Product (GDP), they produce. And that GDP needs to be balanced with migration between the states, for everyone to feel the same."
   ]
  },
  {
   "cell_type": "markdown",
   "id": "bcfa135e-db73-45a8-9d89-57d2bee915bd",
   "metadata": {},
   "source": [
    "---"
   ]
  },
  {
   "cell_type": "markdown",
   "id": "6de6b977-4c56-49cd-bd0b-87214d12b367",
   "metadata": {},
   "source": [
    "3. This third map shows GDP per person in each of the states. Note some similarities with the second map."
   ]
  },
  {
   "cell_type": "markdown",
   "id": "44297437-2863-4a1d-928c-c4155b4795a9",
   "metadata": {},
   "source": [
    "4. And this fourth map tracks changes in state population. Obviously, if states are losing population, their GDP will go down, all else being equal. "
   ]
  },
  {
   "cell_type": "code",
   "execution_count": null,
   "id": "3089e4d0-de4e-4000-ada7-473caaeca3d3",
   "metadata": {},
   "outputs": [],
   "source": []
  }
 ],
 "metadata": {
  "kernelspec": {
   "display_name": "Python 3 (ipykernel)",
   "language": "python",
   "name": "python3"
  },
  "language_info": {
   "codemirror_mode": {
    "name": "ipython",
    "version": 3
   },
   "file_extension": ".py",
   "mimetype": "text/x-python",
   "name": "python",
   "nbconvert_exporter": "python",
   "pygments_lexer": "ipython3",
   "version": "3.12.3"
  }
 },
 "nbformat": 4,
 "nbformat_minor": 5
}
